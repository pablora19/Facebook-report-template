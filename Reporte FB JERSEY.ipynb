{
 "cells": [
  {
   "cell_type": "code",
   "execution_count": 2,
   "metadata": {},
   "outputs": [],
   "source": [
    "import os\n",
    "import numpy as np\n",
    "import pandas as pd\n",
    "from datetime import datetime\n",
    "import matplotlib.pyplot as plt\n",
    "\n",
    "os.chdir('D:\\Some Python\\Reporte SEPTIEMBRE SJ JERSEY')"
   ]
  },
  {
   "cell_type": "code",
   "execution_count": 3,
   "metadata": {},
   "outputs": [
    {
     "data": {
      "text/html": [
       "<div>\n",
       "<style scoped>\n",
       "    .dataframe tbody tr th:only-of-type {\n",
       "        vertical-align: middle;\n",
       "    }\n",
       "\n",
       "    .dataframe tbody tr th {\n",
       "        vertical-align: top;\n",
       "    }\n",
       "\n",
       "    .dataframe thead th {\n",
       "        text-align: right;\n",
       "    }\n",
       "</style>\n",
       "<table border=\"1\" class=\"dataframe\">\n",
       "  <thead>\n",
       "    <tr style=\"text-align: right;\">\n",
       "      <th></th>\n",
       "      <th>Fecha</th>\n",
       "      <th>Lifetime Total Likes</th>\n",
       "    </tr>\n",
       "  </thead>\n",
       "  <tbody>\n",
       "    <tr>\n",
       "      <th>1</th>\n",
       "      <td>2020-07-01</td>\n",
       "      <td>2602</td>\n",
       "    </tr>\n",
       "    <tr>\n",
       "      <th>2</th>\n",
       "      <td>2020-07-02</td>\n",
       "      <td>2612</td>\n",
       "    </tr>\n",
       "    <tr>\n",
       "      <th>3</th>\n",
       "      <td>2020-07-03</td>\n",
       "      <td>2622</td>\n",
       "    </tr>\n",
       "    <tr>\n",
       "      <th>4</th>\n",
       "      <td>2020-07-04</td>\n",
       "      <td>2627</td>\n",
       "    </tr>\n",
       "    <tr>\n",
       "      <th>5</th>\n",
       "      <td>2020-07-05</td>\n",
       "      <td>2629</td>\n",
       "    </tr>\n",
       "    <tr>\n",
       "      <th>...</th>\n",
       "      <td>...</td>\n",
       "      <td>...</td>\n",
       "    </tr>\n",
       "    <tr>\n",
       "      <th>88</th>\n",
       "      <td>2020-09-26</td>\n",
       "      <td>3066</td>\n",
       "    </tr>\n",
       "    <tr>\n",
       "      <th>89</th>\n",
       "      <td>2020-09-27</td>\n",
       "      <td>3072</td>\n",
       "    </tr>\n",
       "    <tr>\n",
       "      <th>90</th>\n",
       "      <td>2020-09-28</td>\n",
       "      <td>3074</td>\n",
       "    </tr>\n",
       "    <tr>\n",
       "      <th>91</th>\n",
       "      <td>2020-09-29</td>\n",
       "      <td>3077</td>\n",
       "    </tr>\n",
       "    <tr>\n",
       "      <th>92</th>\n",
       "      <td>2020-09-30</td>\n",
       "      <td>3087</td>\n",
       "    </tr>\n",
       "  </tbody>\n",
       "</table>\n",
       "<p>92 rows × 2 columns</p>\n",
       "</div>"
      ],
      "text/plain": [
       "         Fecha Lifetime Total Likes\n",
       "1   2020-07-01                 2602\n",
       "2   2020-07-02                 2612\n",
       "3   2020-07-03                 2622\n",
       "4   2020-07-04                 2627\n",
       "5   2020-07-05                 2629\n",
       "..         ...                  ...\n",
       "88  2020-09-26                 3066\n",
       "89  2020-09-27                 3072\n",
       "90  2020-09-28                 3074\n",
       "91  2020-09-29                 3077\n",
       "92  2020-09-30                 3087\n",
       "\n",
       "[92 rows x 2 columns]"
      ]
     },
     "execution_count": 3,
     "metadata": {},
     "output_type": "execute_result"
    }
   ],
   "source": [
    "fanp = pd.read_csv('FAN PAGE SJ JERSEY.csv')\n",
    "fanp.drop (labels = 0, inplace = True)\n",
    "fanp.drop(fanp.iloc[:,2:1586],axis = 1, inplace = True)\n",
    "fanp"
   ]
  },
  {
   "cell_type": "code",
   "execution_count": 4,
   "metadata": {},
   "outputs": [
    {
     "name": "stdout",
     "output_type": "stream",
     "text": [
      "<class 'pandas.core.frame.DataFrame'>\n",
      "Int64Index: 92 entries, 1 to 92\n",
      "Data columns (total 2 columns):\n",
      " #   Column                Non-Null Count  Dtype         \n",
      "---  ------                --------------  -----         \n",
      " 0   Fecha                 92 non-null     datetime64[ns]\n",
      " 1   Lifetime Total Likes  92 non-null     object        \n",
      "dtypes: datetime64[ns](1), object(1)\n",
      "memory usage: 2.2+ KB\n"
     ]
    }
   ],
   "source": [
    "fanp['Fecha'] = pd.to_datetime(fanp['Fecha'])\n",
    "fanp.info()"
   ]
  },
  {
   "cell_type": "code",
   "execution_count": 5,
   "metadata": {},
   "outputs": [
    {
     "data": {
      "text/plain": [
       "'3087'"
      ]
     },
     "execution_count": 5,
     "metadata": {},
     "output_type": "execute_result"
    }
   ],
   "source": [
    "fanp.iloc[-1,1]"
   ]
  },
  {
   "cell_type": "code",
   "execution_count": 13,
   "metadata": {},
   "outputs": [
    {
     "data": {
      "image/png": "[encoded data removed]",
      "text/plain": [
       "<Figure size 1080x360 with 1 Axes>"
      ]
     },
     "metadata": {
      "needs_background": "light"
     },
     "output_type": "display_data"
    }
   ],
   "source": [
    "plt.figure(figsize = (15,5))\n",
    "\n",
    "plt.bar (fanp['Fecha'], fanp['Lifetime Total Likes'], width = 0.8)\n",
    "plt.yticks(np.arange(int(fanp.iloc[0,1])-200,int(fanp.iloc[-1,1])+200,200))\n",
    "plt.ylim(0, 200)\n",
    "plt.grid (True)\n",
    "plt.show()\n"
   ]
  },
  {
   "cell_type": "markdown",
   "metadata": {},
   "source": [
    "# INDIVIDUAL POST REACH (ORGANIC & PAID) "
   ]
  },
  {
   "cell_type": "code",
   "execution_count": 7,
   "metadata": {},
   "outputs": [],
   "source": [
    "post = pd.read_csv('POST REPORT SJ JERSEY.csv')\n",
    "post.drop (labels = 0, inplace = True)\n",
    "post.drop(post.iloc[:,14:52],axis = 1, inplace = True)"
   ]
  },
  {
   "cell_type": "code",
   "execution_count": 8,
   "metadata": {},
   "outputs": [],
   "source": [
    "post = post.astype({'Lifetime Post Total Reach':int, \n",
    "                    'Lifetime Post organic reach':int,\n",
    "                    'Lifetime Post Paid Reach':int,\n",
    "                    'Lifetime Post Total Impressions':int,\n",
    "                    'Lifetime Post Organic Impressions':int,\n",
    "                    'Lifetime Post Paid Impressions':int\n",
    "                   })\n",
    "post['Publicado'] = pd.to_datetime(post['Publicado'])\n",
    "post['Month'] = post['Publicado'].dt.month"
   ]
  },
  {
   "cell_type": "code",
   "execution_count": 9,
   "metadata": {},
   "outputs": [
    {
     "name": "stdout",
     "output_type": "stream",
     "text": [
      "<class 'pandas.core.frame.DataFrame'>\n",
      "Int64Index: 64 entries, 1 to 64\n",
      "Data columns (total 15 columns):\n",
      " #   Column                             Non-Null Count  Dtype         \n",
      "---  ------                             --------------  -----         \n",
      " 0   Identificador de la publicación    64 non-null     object        \n",
      " 1   Enlace permanente                  64 non-null     object        \n",
      " 2   Mensaje de la publicación          64 non-null     object        \n",
      " 3   Tipo                               64 non-null     object        \n",
      " 4   Países                             0 non-null      float64       \n",
      " 5   Idiomas                            0 non-null      float64       \n",
      " 6   Publicado                          64 non-null     datetime64[ns]\n",
      " 7   Segmentación del público           64 non-null     object        \n",
      " 8   Lifetime Post Total Reach          64 non-null     int32         \n",
      " 9   Lifetime Post organic reach        64 non-null     int32         \n",
      " 10  Lifetime Post Paid Reach           64 non-null     int32         \n",
      " 11  Lifetime Post Total Impressions    64 non-null     int32         \n",
      " 12  Lifetime Post Organic Impressions  64 non-null     int32         \n",
      " 13  Lifetime Post Paid Impressions     64 non-null     int32         \n",
      " 14  Month                              64 non-null     int64         \n",
      "dtypes: datetime64[ns](1), float64(2), int32(6), int64(1), object(5)\n",
      "memory usage: 6.5+ KB\n"
     ]
    }
   ],
   "source": [
    "post.info()"
   ]
  },
  {
   "cell_type": "markdown",
   "metadata": {},
   "source": [
    "Pending task, how to visualize only one month, just september.\n",
    "with no blank spaces. Just in the dates theres info, no need to put 0, in the dates were no post was uploaded"
   ]
  },
  {
   "cell_type": "code",
   "execution_count": 21,
   "metadata": {},
   "outputs": [
    {
     "data": {
      "image/png": "[encoded data removed]",
      "text/plain": [
       "<Figure size 720x360 with 1 Axes>"
      ]
     },
     "metadata": {
      "needs_background": "light"
     },
     "output_type": "display_data"
    }
   ],
   "source": [
    "months = {1:'JAN', 2:'FEB',3:'MAR', 4:'APR', 5:'MAY', 6: 'JUN',\n",
    "          7:'JUL', 8:'AUG',9:'SEP', 10:'OCT', 11:'NOV', 12: 'DEC'}\n",
    "plt.figure(figsize = (10,5))\n",
    "\n",
    "#plt.bar  ([months[x] for x in post['Month']],post['Lifetime Post Total Reach'])\n",
    "plt.bar (post['Month'], post['Lifetime Post organic reach'], width = 0.5)\n",
    "plt.bar (post['Month'], post['Lifetime Post Paid Reach'], width = 0.5)\n",
    "plt.ylim(0,25000)\n",
    "\n",
    "plt.title ( ' Alcance Total Mensual')\n",
    "plt.ylabel('Alcance')\n",
    "plt.xlabel('Meses')\n",
    "plt.show()\n"
   ]
  },
  {
   "cell_type": "code",
   "execution_count": 11,
   "metadata": {},
   "outputs": [
    {
     "data": {
      "text/plain": [
       "(108831, 9610)"
      ]
     },
     "execution_count": 11,
     "metadata": {},
     "output_type": "execute_result"
    }
   ],
   "source": [
    "post['Lifetime Post organic reach'].sum(), post['Lifetime Post Paid Reach'].sum()"
   ]
  },
  {
   "cell_type": "code",
   "execution_count": null,
   "metadata": {},
   "outputs": [],
   "source": []
  }
 ],
 "metadata": {
  "kernelspec": {
   "display_name": "Python 3",
   "language": "python",
   "name": "python3"
  },
  "language_info": {
   "codemirror_mode": {
    "name": "ipython",
    "version": 3
   },
   "file_extension": ".py",
   "mimetype": "text/x-python",
   "name": "python",
   "nbconvert_exporter": "python",
   "pygments_lexer": "ipython3",
   "version": "3.7.6"
  }
 },
 "nbformat": 4,
 "nbformat_minor": 4
}
